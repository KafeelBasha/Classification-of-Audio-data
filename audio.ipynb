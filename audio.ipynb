{
  "nbformat": 4,
  "nbformat_minor": 0,
  "metadata": {
    "colab": {
      "name": "audio.ipynb",
      "provenance": []
    },
    "kernelspec": {
      "name": "python3",
      "display_name": "Python 3"
    }
  },
  "cells": [
    {
      "cell_type": "markdown",
      "metadata": {
        "id": "rWYRCcAvXxoD",
        "colab_type": "text"
      },
      "source": [
        "- Zero Crossing Rate: Rate at which the signal changes from positive to negative or vice versa.\n",
        "\n",
        "- Spectral centroid: Indicates at which frequency the energy of a spectrum is centered upon(Center of mass)\n",
        "\n",
        "- Spectral Rolloff: Frequency below which a specified percentage of the total spectral energy lies.\n",
        "\n",
        "- Spectral Contrast: Spectral peak,spectral valley and their difference in each frequency subband.\n",
        "\n",
        "- Mel Frequency Ceptral coefficient: Set of features used to describe the overall shape of a spectral envelope.\n",
        "\n",
        "- Chroma: How much energy of each pitch class {C,C#,D,D#,E etc} is present in the signal.\n",
        "\n",
        "- Tonnetz: Captures harmonic relationships\n"
      ]
    },
    {
      "cell_type": "code",
      "metadata": {
        "id": "uFtI7Q9PYCfN",
        "colab_type": "code",
        "colab": {}
      },
      "source": [
        "#Importing libraries first \n",
        "import glob\n",
        "import os\n",
        "import librosa\n",
        "import numpy as np\n",
        "import pandas as pd\n",
        "import matplotlib.pyplot as plt\n",
        "%matplotlib inline"
      ],
      "execution_count": null,
      "outputs": []
    },
    {
      "cell_type": "code",
      "metadata": {
        "id": "9Lo2TxpKerNT",
        "colab_type": "code",
        "colab": {}
      },
      "source": [
        "from google.colab import drive\n",
        "drive.mount('/content/drive')"
      ],
      "execution_count": null,
      "outputs": []
    },
    {
      "cell_type": "code",
      "metadata": {
        "id": "tvMFgaztfSjn",
        "colab_type": "code",
        "colab": {}
      },
      "source": [
        "os.chdir('/content/drive/My Drive/data/audio')"
      ],
      "execution_count": null,
      "outputs": []
    },
    {
      "cell_type": "code",
      "metadata": {
        "id": "mnr0NI-dqQLc",
        "colab_type": "code",
        "colab": {}
      },
      "source": [
        "files=glob.glob('/content/drive/My Drive/data/audio/**/*.wav')\n",
        "len(files)"
      ],
      "execution_count": null,
      "outputs": []
    },
    {
      "cell_type": "code",
      "metadata": {
        "id": "9MP2u9s8qdm0",
        "colab_type": "code",
        "colab": {}
      },
      "source": [
        "genre=[]\n",
        "for f in files:\n",
        "    genre.append(f.split(\"/\")[6])\n",
        "\n",
        "genre=pd.Series(genre)\n",
        "genre.value_counts()"
      ],
      "execution_count": null,
      "outputs": []
    },
    {
      "cell_type": "code",
      "metadata": {
        "id": "8bp_dVHoYkqY",
        "colab_type": "code",
        "colab": {}
      },
      "source": [
        "def extract_feature(file_name):\n",
        "    file=[]\n",
        "    file.append(file_name)\n",
        "    #Returns audio time series with sample rate\n",
        "    x, sample_rate = librosa.load(file_name) \n",
        "    print (\"Features :\",len(x), \"sampled at \", sample_rate, \"hz\")\n",
        "    #Divide a longer time signal into shorter segments of equal length and then compute\n",
        "    #the Fourier transform separately on each shorter segment (magnitude of frequency bin f at frame t)\n",
        "    stft = np.abs(librosa.stft(x))\n",
        "    zcr = np.mean(librosa.feature.zero_crossing_rate(x).T)\n",
        "    spectral_centroid=np.mean(librosa.feature.spectral_centroid(x, sr=sample_rate)[0].T)\n",
        "    spectral_rolloff= np.mean(librosa.feature.spectral_rolloff(x+0.01, sr=sample_rate)[0].T)\n",
        "    spectral_contrast=np.mean(librosa.feature.spectral_contrast(S=stft, sr=sample_rate).T)\n",
        "    mfccs = np.mean(librosa.feature.mfcc(y=x, sr=sample_rate, n_mfcc=40).T)\n",
        "    chroma = np.mean(librosa.feature.chroma_stft(S=stft, sr=sample_rate).T)\n",
        "    tonnetz = np.mean(librosa.feature.tonnetz(y=librosa.effects.harmonic(x), sr=sample_rate).T)\n",
        "    return file,zcr,spectral_centroid,spectral_rolloff,spectral_contrast,mfccs,chroma,tonnetz"
      ],
      "execution_count": null,
      "outputs": []
    },
    {
      "cell_type": "code",
      "metadata": {
        "id": "nPsdr-o0cgxK",
        "colab_type": "code",
        "colab": {}
      },
      "source": [
        "features=[]\n",
        "for f in files:\n",
        "    features.append(extract_feature(f))"
      ],
      "execution_count": null,
      "outputs": []
    },
    {
      "cell_type": "code",
      "metadata": {
        "id": "s7jngSbUs8bM",
        "colab_type": "code",
        "colab": {}
      },
      "source": [
        "features[0]"
      ],
      "execution_count": null,
      "outputs": []
    },
    {
      "cell_type": "code",
      "metadata": {
        "id": "eVDCwmfsrk7B",
        "colab_type": "code",
        "colab": {}
      },
      "source": [
        "data=pd.DataFrame(features,columns=['file','zcr','spectral_centroid','spectral_rolloff','spectral_contrast','mfccs','chroma','tonnetz'])\n",
        "data"
      ],
      "execution_count": null,
      "outputs": []
    },
    {
      "cell_type": "code",
      "metadata": {
        "id": "_PhFC5kEujwl",
        "colab_type": "code",
        "colab": {}
      },
      "source": [
        "data['file']=genre"
      ],
      "execution_count": null,
      "outputs": []
    },
    {
      "cell_type": "code",
      "metadata": {
        "id": "UpESv-dWupfC",
        "colab_type": "code",
        "colab": {}
      },
      "source": [
        "data.head()"
      ],
      "execution_count": null,
      "outputs": []
    },
    {
      "cell_type": "code",
      "metadata": {
        "id": "tGKVXpNBuqy8",
        "colab_type": "code",
        "colab": {}
      },
      "source": [
        "import numpy as np\n",
        "from sklearn import neighbors as nb\n",
        "from sklearn import metrics\n",
        "from sklearn.preprocessing import LabelEncoder, scale"
      ],
      "execution_count": null,
      "outputs": []
    },
    {
      "cell_type": "code",
      "metadata": {
        "id": "GbPG3qw6u1Ix",
        "colab_type": "code",
        "colab": {}
      },
      "source": [
        "X=data.drop('file',axis=1)\n",
        "y=data['file']"
      ],
      "execution_count": null,
      "outputs": []
    },
    {
      "cell_type": "code",
      "metadata": {
        "id": "kdHdFGC0u-CW",
        "colab_type": "code",
        "colab": {}
      },
      "source": [
        "from sklearn.model_selection import train_test_split\n",
        "x_train,x_test,y_train,y_test=train_test_split(X,y,test_size=0.1,random_state=1)"
      ],
      "execution_count": null,
      "outputs": []
    },
    {
      "cell_type": "code",
      "metadata": {
        "id": "8LQ7XYwXvH2R",
        "colab_type": "code",
        "colab": {}
      },
      "source": [
        "enc=LabelEncoder()\n",
        "target=enc.fit_transform(y_train)"
      ],
      "execution_count": null,
      "outputs": []
    },
    {
      "cell_type": "code",
      "metadata": {
        "id": "dOw7sxVDvMGG",
        "colab_type": "code",
        "colab": {}
      },
      "source": [
        "enc.classes_"
      ],
      "execution_count": null,
      "outputs": []
    },
    {
      "cell_type": "code",
      "metadata": {
        "id": "NWfpGE9SvQeh",
        "colab_type": "code",
        "colab": {}
      },
      "source": [
        "target"
      ],
      "execution_count": null,
      "outputs": []
    },
    {
      "cell_type": "code",
      "metadata": {
        "id": "L7GEfFLzvSMo",
        "colab_type": "code",
        "colab": {}
      },
      "source": [
        "#Scaling\n",
        "train=scale(x_train,axis=0)\n",
        "train=pd.DataFrame(train)\n",
        "train.columns=[x_train.columns]"
      ],
      "execution_count": null,
      "outputs": []
    },
    {
      "cell_type": "code",
      "metadata": {
        "id": "rTVgoNt6vcKe",
        "colab_type": "code",
        "colab": {}
      },
      "source": [
        "clf=nb.KNeighborsClassifier(n_neighbors=5,n_jobs=-1,weights='distance')\n",
        "clf.fit(train,target)"
      ],
      "execution_count": null,
      "outputs": []
    },
    {
      "cell_type": "code",
      "metadata": {
        "id": "cLxZaw7cvnVN",
        "colab_type": "code",
        "colab": {}
      },
      "source": [
        "#Scaling\n",
        "test=scale(x_test,axis=0)\n",
        "test=pd.DataFrame(test)\n",
        "test.columns=[x_test.columns]"
      ],
      "execution_count": null,
      "outputs": []
    },
    {
      "cell_type": "code",
      "metadata": {
        "id": "pElDZgxnvygr",
        "colab_type": "code",
        "colab": {}
      },
      "source": [
        "y_test=enc.transform(y_test)"
      ],
      "execution_count": null,
      "outputs": []
    },
    {
      "cell_type": "code",
      "metadata": {
        "id": "vgJLhxUZv38b",
        "colab_type": "code",
        "colab": {}
      },
      "source": [
        "clf.score(test,y_test)"
      ],
      "execution_count": null,
      "outputs": []
    },
    {
      "cell_type": "code",
      "metadata": {
        "id": "uMFCM1J2wZSa",
        "colab_type": "code",
        "colab": {}
      },
      "source": [
        "#GridSearch on value of k\n",
        "from sklearn.model_selection import GridSearchCV\n",
        "model=GridSearchCV(clf,param_grid={'n_neighbors':[3,5,7],'weights':['distance','uniform']})\n",
        "model.fit(train,target)"
      ],
      "execution_count": null,
      "outputs": []
    },
    {
      "cell_type": "code",
      "metadata": {
        "id": "NMkO4WI1xtb9",
        "colab_type": "code",
        "colab": {}
      },
      "source": [
        "#Best estimator\n",
        "model.best_estimator_"
      ],
      "execution_count": null,
      "outputs": []
    },
    {
      "cell_type": "code",
      "metadata": {
        "id": "aMv7XwtGxxcP",
        "colab_type": "code",
        "colab": {}
      },
      "source": [
        "model.best_params_"
      ],
      "execution_count": null,
      "outputs": []
    },
    {
      "cell_type": "code",
      "metadata": {
        "id": "QxgLU55zx18d",
        "colab_type": "code",
        "colab": {}
      },
      "source": [
        "model.best_estimator_.score(test,y_test)"
      ],
      "execution_count": null,
      "outputs": []
    },
    {
      "cell_type": "code",
      "metadata": {
        "id": "LHlgM4fjyK15",
        "colab_type": "code",
        "colab": {}
      },
      "source": [
        "#Get Neighbors\n",
        "knn=model.best_estimator_"
      ],
      "execution_count": null,
      "outputs": []
    },
    {
      "cell_type": "code",
      "metadata": {
        "id": "Kr-ldshMy67Q",
        "colab_type": "code",
        "colab": {}
      },
      "source": [
        "knn.kneighbors(test.loc[0:0,:],3)"
      ],
      "execution_count": null,
      "outputs": []
    },
    {
      "cell_type": "code",
      "metadata": {
        "id": "dG0J9oKSzC09",
        "colab_type": "code",
        "colab": {}
      },
      "source": [
        "train.head()"
      ],
      "execution_count": null,
      "outputs": []
    },
    {
      "cell_type": "code",
      "metadata": {
        "id": "eAM5UL2nzKGe",
        "colab_type": "code",
        "colab": {}
      },
      "source": [
        "x=train.iloc[[9,0,6],:]\n",
        "x"
      ],
      "execution_count": null,
      "outputs": []
    },
    {
      "cell_type": "code",
      "metadata": {
        "id": "oZ60vzBB1nD4",
        "colab_type": "code",
        "colab": {}
      },
      "source": [
        "#Cosine similarity\n",
        "from sklearn.metrics.pairwise import euclidean_distances\n",
        "euclidean_distances(test.loc[0:0,:],x)"
      ],
      "execution_count": null,
      "outputs": []
    },
    {
      "cell_type": "code",
      "metadata": {
        "id": "fE_fq9xS2mJc",
        "colab_type": "code",
        "colab": {}
      },
      "source": [
        "pd.Series(euclidean_distances(test.loc[0:0,:],train)[0]).sort_values()[0:3]"
      ],
      "execution_count": null,
      "outputs": []
    },
    {
      "cell_type": "code",
      "metadata": {
        "id": "JVGCkPH7630c",
        "colab_type": "code",
        "colab": {}
      },
      "source": [
        ""
      ],
      "execution_count": null,
      "outputs": []
    }
  ]
}